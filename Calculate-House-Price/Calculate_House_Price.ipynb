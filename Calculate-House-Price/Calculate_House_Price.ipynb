{
  "nbformat": 4,
  "nbformat_minor": 0,
  "metadata": {
    "colab": {
      "name": "Calculate_House_Price.ipynb",
      "provenance": [],
      "collapsed_sections": [],
      "authorship_tag": "ABX9TyODKxZvdIyVq2NdIJQchU5m",
      "include_colab_link": true
    },
    "kernelspec": {
      "name": "python3",
      "display_name": "Python 3"
    }
  },
  "cells": [
    {
      "cell_type": "markdown",
      "metadata": {
        "id": "view-in-github",
        "colab_type": "text"
      },
      "source": [
        "<a href=\"https://colab.research.google.com/github/SaeidAbdolian/Artificial-Neural-Networks/blob/main/Calculate-House-Price/Calculate_House_Price.ipynb\" target=\"_parent\"><img src=\"https://colab.research.google.com/assets/colab-badge.svg\" alt=\"Open In Colab\"/></a>"
      ]
    },
    {
      "cell_type": "code",
      "metadata": {
        "id": "KbSeYH0IyTNB"
      },
      "source": [
        "from google.colab import drive\r\n",
        "drive.mount('/mntDrive/')"
      ],
      "execution_count": null,
      "outputs": []
    },
    {
      "cell_type": "code",
      "metadata": {
        "id": "TOPf4G7EyUbA"
      },
      "source": [
        "cd /mntDrive/My Drive/Calculate-House-Price/data/"
      ],
      "execution_count": null,
      "outputs": []
    },
    {
      "cell_type": "code",
      "metadata": {
        "id": "zNTrqeuK4u3P"
      },
      "source": [
        "import pandas as pd\r\n",
        "import numpy as np\r\n",
        "from sklearn.preprocessing import normalize\r\n",
        "from numpy import linalg as LA"
      ],
      "execution_count": null,
      "outputs": []
    },
    {
      "cell_type": "code",
      "metadata": {
        "id": "HydtC2xXWyrc"
      },
      "source": [
        "df = pd.read_csv('data5.txt', delimiter= '\\s+', index_col=False)\r\n",
        "type(df)\r\n",
        "df = df.to_numpy()"
      ],
      "execution_count": null,
      "outputs": []
    },
    {
      "cell_type": "code",
      "metadata": {
        "id": "_Vy5dlbm6U8_",
        "colab": {
          "base_uri": "https://localhost:8080/"
        },
        "outputId": "2f50766b-c282-4cfa-c73c-53343901a3d2"
      },
      "source": [
        "data = np.array(df)\r\n",
        "data0 = data\r\n",
        "m,n = data.shape\r\n",
        "print(n,m)"
      ],
      "execution_count": null,
      "outputs": [
        {
          "output_type": "stream",
          "text": [
            "9 25\n"
          ],
          "name": "stdout"
        }
      ]
    },
    {
      "cell_type": "code",
      "metadata": {
        "id": "5AlYh64eBWwq"
      },
      "source": [
        "data = normalize(data, axis=0, norm='max')"
      ],
      "execution_count": null,
      "outputs": []
    },
    {
      "cell_type": "code",
      "metadata": {
        "id": "gstiGIIq0k98"
      },
      "source": [
        "data[:,7] = data0[:,7]\r\n",
        "data[:,0] = data0[:,0]"
      ],
      "execution_count": null,
      "outputs": []
    },
    {
      "cell_type": "code",
      "metadata": {
        "id": "ERHbRT78D4JU"
      },
      "source": [
        "def sigmoid(x):\r\n",
        "    return (1. / (1. + np.exp(-x)))"
      ],
      "execution_count": null,
      "outputs": []
    },
    {
      "cell_type": "code",
      "metadata": {
        "id": "xbAJZGBqGEDi"
      },
      "source": [
        "w = np.random.rand(6,1)\r\n",
        "eta = 0.3\r\n",
        "n = 1000000\r\n",
        "hh = data[0:10,1:7]"
      ],
      "execution_count": null,
      "outputs": []
    },
    {
      "cell_type": "code",
      "metadata": {
        "id": "WeE1Dm0QHnTw"
      },
      "source": [
        "for i in range(n):\r\n",
        "  z = w[5,0] + hh.dot(w)\r\n",
        "  y = sigmoid(z)\r\n",
        "  yy = np.reshape(y,(1,10))\r\n",
        "  yyy = ((data[0:10,6])-yy)\r\n",
        "  delta = (1-y)*(np.reshape(yyy,(10,1)))\r\n",
        "  dwp2 = y*delta\r\n",
        "  dw1p=np.sum(dwp2*np.reshape(data[0:10,0],(10,1)))\r\n",
        "  dw2p=np.sum(dwp2*np.reshape(data[0:10,1],(10,1)))\r\n",
        "  dw3p=np.sum(dwp2*np.reshape(data[0:10,2],(10,1)))\r\n",
        "  dw4p=np.sum(dwp2*np.reshape(data[0:10,3],(10,1)))\r\n",
        "  dw5p=np.sum(dwp2*np.reshape(data[0:10,4],(10,1)))\r\n",
        "  dw6p=np.sum(dwp2*np.reshape(data[0:10,5],(10,1)))\r\n",
        "  dw1=np.array([[dw1p],[dw2p],[dw3p],[dw4p],[dw5p],[dw6p]])\r\n",
        "  dw = (-1)*(sum(dw1))#derive for error of weight\r\n",
        "  w = w+(-eta*dw)\r\n",
        "\r\n",
        "z = w[5,0] + data[10:25,1:7].dot(w)\r\n",
        "d = data[10:25,7] - z;\r\n",
        "e = 0.5*LA.norm(d);\r\n",
        "test_accuracy = [z,data[10:25,7]]\r\n"
      ],
      "execution_count": null,
      "outputs": []
    },
    {
      "cell_type": "code",
      "metadata": {
        "colab": {
          "base_uri": "https://localhost:8080/"
        },
        "id": "ztj_nv-ucXNI",
        "outputId": "9fdcbf6d-209f-4637-d57d-b5d7371aa7be"
      },
      "source": [
        "e"
      ],
      "execution_count": null,
      "outputs": [
        {
          "output_type": "execute_result",
          "data": {
            "text/plain": [
              "29.590139133468853"
            ]
          },
          "metadata": {
            "tags": []
          },
          "execution_count": 188
        }
      ]
    },
    {
      "cell_type": "code",
      "metadata": {
        "colab": {
          "base_uri": "https://localhost:8080/"
        },
        "id": "lG2UYhl8wCyv",
        "outputId": "4ec06038-b2fe-43c1-aa39-d9e7723ffef8"
      },
      "source": [
        "test_accuracy"
      ],
      "execution_count": null,
      "outputs": [
        {
          "output_type": "execute_result",
          "data": {
            "text/plain": [
              "[array([[ 8.38495283],\n",
              "        [10.75372371],\n",
              "        [12.98973921],\n",
              "        [ 9.51207761],\n",
              "        [12.44096433],\n",
              "        [ 7.31210942],\n",
              "        [12.63135705],\n",
              "        [10.18629178],\n",
              "        [11.65803899],\n",
              "        [ 8.70386775],\n",
              "        [12.99319915],\n",
              "        [ 9.70037167],\n",
              "        [12.27435704],\n",
              "        [13.15391393],\n",
              "        [11.86043648]]),\n",
              " array([11.,  7., 13.,  4., 11.,  7.,  9.,  5., 10.,  7.,  6.,  7., 12.,\n",
              "        12., 11.])]"
            ]
          },
          "metadata": {
            "tags": []
          },
          "execution_count": 189
        }
      ]
    }
  ]
}