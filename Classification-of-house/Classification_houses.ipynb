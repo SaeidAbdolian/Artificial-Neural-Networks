{
  "nbformat": 4,
  "nbformat_minor": 0,
  "metadata": {
    "colab": {
      "name": "Classification_houses.ipynb",
      "provenance": [],
      "collapsed_sections": [],
      "authorship_tag": "ABX9TyNV5O7NtJYQlfUrZmLmx/hY",
      "include_colab_link": true
    },
    "kernelspec": {
      "name": "python3",
      "display_name": "Python 3"
    }
  },
  "cells": [
    {
      "cell_type": "markdown",
      "metadata": {
        "id": "view-in-github",
        "colab_type": "text"
      },
      "source": [
        "<a href=\"https://colab.research.google.com/github/SaeidAbdolian/Artificial-Neural-Networks/blob/main/Classification-of-house/Classification_houses.ipynb\" target=\"_parent\"><img src=\"https://colab.research.google.com/assets/colab-badge.svg\" alt=\"Open In Colab\"/></a>"
      ]
    },
    {
      "cell_type": "code",
      "metadata": {
        "colab": {
          "base_uri": "https://localhost:8080/"
        },
        "id": "8SoxgYigF2LB",
        "outputId": "32acd9c0-da46-427a-9440-ab94713c3434"
      },
      "source": [
        "from google.colab import drive\r\n",
        "drive.mount('/mntDrive/')"
      ],
      "execution_count": null,
      "outputs": [
        {
          "output_type": "stream",
          "text": [
            "Mounted at /mntDrive/\n"
          ],
          "name": "stdout"
        }
      ]
    },
    {
      "cell_type": "code",
      "metadata": {
        "colab": {
          "base_uri": "https://localhost:8080/"
        },
        "id": "weY0shVcF4zr",
        "outputId": "0b2d67e4-b83d-4d89-b5eb-d05462f42f09"
      },
      "source": [
        "cd /mntDrive/My Drive/Calculate-House-Price/data/"
      ],
      "execution_count": null,
      "outputs": [
        {
          "output_type": "stream",
          "text": [
            "/mntDrive/My Drive/project/projec2\n"
          ],
          "name": "stdout"
        }
      ]
    },
    {
      "cell_type": "code",
      "metadata": {
        "id": "ZqNNGeQoFP1U"
      },
      "source": [
        "import pandas as pd\n",
        "import numpy as np\n",
        "from sklearn.preprocessing import normalize\n",
        "from numpy import linalg as LA"
      ],
      "execution_count": null,
      "outputs": []
    },
    {
      "cell_type": "code",
      "metadata": {
        "colab": {
          "base_uri": "https://localhost:8080/"
        },
        "id": "eVAgdELBZECg",
        "outputId": "69c1c5ad-cf0d-49d6-c13b-a62d634d6f3a"
      },
      "source": [
        "E = 50\r\n",
        "while E>30:\r\n",
        "\r\n",
        "  data = pd.read_csv('dataa.txt', delimiter= '\\s+',  header=None)\r\n",
        "  data = np.array(data)\r\n",
        "  data0 = data\r\n",
        "  m,n = data.shape\r\n",
        "\r\n",
        "  data = normalize(data, axis=0, norm='max')\r\n",
        "  data[:,3] = data0[:,3]\r\n",
        "\r\n",
        "  w = np.random.rand(3,1)\r\n",
        "  eta = 0.3\r\n",
        "  n = 10000\r\n",
        "  hh = data[0:50,0:3]\r\n",
        "  z = w[2,0] + hh.dot(w)\r\n",
        "  e = 1\r\n",
        "  t=data[0:50,3] #\r\n",
        "\r\n",
        "  m=hh.shape[0]\r\n",
        "  n=hh.shape[1]\r\n",
        "  y=np.zeros([m,1]) #\r\n",
        "\r\n",
        "  for i in range(0,m):\r\n",
        "    z = w[2,0] + hh.dot(w)\r\n",
        "    if z[i,0] > 0:\r\n",
        "        y[i,0]=1\r\n",
        "    else:\r\n",
        "        y[i,0]=0\r\n",
        "        et = eta.dot(t)\r\n",
        "        ety = et - y\r\n",
        "        w = w + ety.dot(data[i,0:3])\r\n",
        "\r\n",
        "  b=type(t)\r\n",
        "  #e =np.sum(y,t)\r\n",
        "  z=hh.dot(w)\r\n",
        "\r\n",
        "  for i in range(0,m):\r\n",
        "    if z[i,0]-1 > 0:\r\n",
        "        y[i,0]=2\r\n",
        "    else:\r\n",
        "        y[i,0]=1\r\n",
        "\r\n",
        "  E = (((np.sum(abs(y.T-data[:,3])))/50)*100)\r\n",
        "\r\n",
        "d = [y,data[0:50,3]]    #diffrent\r\n",
        "\r\n",
        "E"
      ],
      "execution_count": null,
      "outputs": [
        {
          "output_type": "execute_result",
          "data": {
            "text/plain": [
              "6.0"
            ]
          },
          "metadata": {
            "tags": []
          },
          "execution_count": 10
        }
      ]
    },
    {
      "cell_type": "code",
      "metadata": {
        "colab": {
          "base_uri": "https://localhost:8080/"
        },
        "id": "9tTAjp57xesq",
        "outputId": "1d63df61-5973-463e-f3be-4fe8fa0fa508"
      },
      "source": [
        "d"
      ],
      "execution_count": null,
      "outputs": [
        {
          "output_type": "execute_result",
          "data": {
            "text/plain": [
              "[array([[2.],\n",
              "        [1.],\n",
              "        [2.],\n",
              "        [2.],\n",
              "        [1.],\n",
              "        [1.],\n",
              "        [1.],\n",
              "        [2.],\n",
              "        [1.],\n",
              "        [2.],\n",
              "        [1.],\n",
              "        [2.],\n",
              "        [2.],\n",
              "        [2.],\n",
              "        [2.],\n",
              "        [2.],\n",
              "        [1.],\n",
              "        [1.],\n",
              "        [2.],\n",
              "        [2.],\n",
              "        [1.],\n",
              "        [1.],\n",
              "        [2.],\n",
              "        [2.],\n",
              "        [2.],\n",
              "        [2.],\n",
              "        [2.],\n",
              "        [1.],\n",
              "        [2.],\n",
              "        [1.],\n",
              "        [2.],\n",
              "        [1.],\n",
              "        [1.],\n",
              "        [1.],\n",
              "        [1.],\n",
              "        [1.],\n",
              "        [2.],\n",
              "        [1.],\n",
              "        [1.],\n",
              "        [2.],\n",
              "        [1.],\n",
              "        [1.],\n",
              "        [2.],\n",
              "        [2.],\n",
              "        [1.],\n",
              "        [2.],\n",
              "        [2.],\n",
              "        [2.],\n",
              "        [2.],\n",
              "        [2.]]),\n",
              " array([2., 1., 2., 2., 1., 1., 1., 2., 1., 2., 1., 2., 2., 2., 2., 2., 1.,\n",
              "        1., 2., 2., 1., 1., 2., 2., 2., 2., 2., 1., 1., 1., 2., 1., 1., 1.,\n",
              "        1., 1., 2., 1., 1., 1., 1., 1., 2., 2., 1., 2., 1., 2., 2., 2.])]"
            ]
          },
          "metadata": {
            "tags": []
          },
          "execution_count": 11
        }
      ]
    }
  ]
}